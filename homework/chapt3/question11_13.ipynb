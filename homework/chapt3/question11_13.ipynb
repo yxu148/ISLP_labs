{
 "cells": [
  {
   "cell_type": "code",
   "execution_count": 1,
   "id": "7ee70461-3025-4bb9-8973-1b14fb2c9be4",
   "metadata": {},
   "outputs": [],
   "source": [
    "import numpy as np\n",
    "import statsmodels.api as sm\n",
    "import pandas as pd\n",
    "from ISLP.models import (ModelSpec as MS,\n",
    "                         summarize,\n",
    "                         poly)"
   ]
  },
  {
   "cell_type": "code",
   "execution_count": 2,
   "id": "1f6cc970-2cfb-4477-a6ab-c087a49ac753",
   "metadata": {},
   "outputs": [
    {
     "data": {
      "text/html": [
       "<div>\n",
       "<style scoped>\n",
       "    .dataframe tbody tr th:only-of-type {\n",
       "        vertical-align: middle;\n",
       "    }\n",
       "\n",
       "    .dataframe tbody tr th {\n",
       "        vertical-align: top;\n",
       "    }\n",
       "\n",
       "    .dataframe thead th {\n",
       "        text-align: right;\n",
       "    }\n",
       "</style>\n",
       "<table border=\"1\" class=\"dataframe\">\n",
       "  <thead>\n",
       "    <tr style=\"text-align: right;\">\n",
       "      <th></th>\n",
       "      <th>x</th>\n",
       "      <th>y</th>\n",
       "    </tr>\n",
       "  </thead>\n",
       "  <tbody>\n",
       "    <tr>\n",
       "      <th>0</th>\n",
       "      <td>0.345584</td>\n",
       "      <td>0.039887</td>\n",
       "    </tr>\n",
       "    <tr>\n",
       "      <th>1</th>\n",
       "      <td>0.821618</td>\n",
       "      <td>2.505681</td>\n",
       "    </tr>\n",
       "    <tr>\n",
       "      <th>2</th>\n",
       "      <td>0.330437</td>\n",
       "      <td>0.535282</td>\n",
       "    </tr>\n",
       "    <tr>\n",
       "      <th>3</th>\n",
       "      <td>-1.303157</td>\n",
       "      <td>-1.937161</td>\n",
       "    </tr>\n",
       "    <tr>\n",
       "      <th>4</th>\n",
       "      <td>0.905356</td>\n",
       "      <td>3.029555</td>\n",
       "    </tr>\n",
       "    <tr>\n",
       "      <th>...</th>\n",
       "      <td>...</td>\n",
       "      <td>...</td>\n",
       "    </tr>\n",
       "    <tr>\n",
       "      <th>95</th>\n",
       "      <td>-2.250854</td>\n",
       "      <td>-6.119176</td>\n",
       "    </tr>\n",
       "    <tr>\n",
       "      <th>96</th>\n",
       "      <td>-0.138655</td>\n",
       "      <td>0.832327</td>\n",
       "    </tr>\n",
       "    <tr>\n",
       "      <th>97</th>\n",
       "      <td>0.033000</td>\n",
       "      <td>0.234106</td>\n",
       "    </tr>\n",
       "    <tr>\n",
       "      <th>98</th>\n",
       "      <td>-1.425349</td>\n",
       "      <td>-2.302292</td>\n",
       "    </tr>\n",
       "    <tr>\n",
       "      <th>99</th>\n",
       "      <td>0.332814</td>\n",
       "      <td>-0.399498</td>\n",
       "    </tr>\n",
       "  </tbody>\n",
       "</table>\n",
       "<p>100 rows × 2 columns</p>\n",
       "</div>"
      ],
      "text/plain": [
       "           x         y\n",
       "0   0.345584  0.039887\n",
       "1   0.821618  2.505681\n",
       "2   0.330437  0.535282\n",
       "3  -1.303157 -1.937161\n",
       "4   0.905356  3.029555\n",
       "..       ...       ...\n",
       "95 -2.250854 -6.119176\n",
       "96 -0.138655  0.832327\n",
       "97  0.033000  0.234106\n",
       "98 -1.425349 -2.302292\n",
       "99  0.332814 -0.399498\n",
       "\n",
       "[100 rows x 2 columns]"
      ]
     },
     "execution_count": 2,
     "metadata": {},
     "output_type": "execute_result"
    }
   ],
   "source": [
    "rng = np.random.default_rng(1)\n",
    "x = rng.normal(size=100)\n",
    "y = 2 * x + rng.normal(size=100)\n",
    "df = pd.DataFrame(data={'x': x, 'y':y})\n",
    "df"
   ]
  },
  {
   "cell_type": "code",
   "execution_count": 3,
   "id": "f5097c5e-a442-4b1d-b066-0be1984cec61",
   "metadata": {},
   "outputs": [
    {
     "data": {
      "text/html": [
       "<div>\n",
       "<style scoped>\n",
       "    .dataframe tbody tr th:only-of-type {\n",
       "        vertical-align: middle;\n",
       "    }\n",
       "\n",
       "    .dataframe tbody tr th {\n",
       "        vertical-align: top;\n",
       "    }\n",
       "\n",
       "    .dataframe thead th {\n",
       "        text-align: right;\n",
       "    }\n",
       "</style>\n",
       "<table border=\"1\" class=\"dataframe\">\n",
       "  <thead>\n",
       "    <tr style=\"text-align: right;\">\n",
       "      <th></th>\n",
       "      <th>coef</th>\n",
       "      <th>std err</th>\n",
       "      <th>t</th>\n",
       "      <th>P&gt;|t|</th>\n",
       "    </tr>\n",
       "  </thead>\n",
       "  <tbody>\n",
       "    <tr>\n",
       "      <th>x</th>\n",
       "      <td>1.9762</td>\n",
       "      <td>0.117</td>\n",
       "      <td>16.898</td>\n",
       "      <td>0.0</td>\n",
       "    </tr>\n",
       "  </tbody>\n",
       "</table>\n",
       "</div>"
      ],
      "text/plain": [
       "     coef  std err       t  P>|t|\n",
       "x  1.9762    0.117  16.898    0.0"
      ]
     },
     "execution_count": 3,
     "metadata": {},
     "output_type": "execute_result"
    }
   ],
   "source": [
    "X = MS(['x'], intercept=False).fit_transform(df)\n",
    "y = df['y']\n",
    "model = sm.OLS(y, X);\n",
    "results = model.fit();\n",
    "summarize(results)"
   ]
  },
  {
   "cell_type": "code",
   "execution_count": 4,
   "id": "425e2cd6-b96a-4b4d-a836-090839045629",
   "metadata": {},
   "outputs": [
    {
     "data": {
      "text/html": [
       "<div>\n",
       "<style scoped>\n",
       "    .dataframe tbody tr th:only-of-type {\n",
       "        vertical-align: middle;\n",
       "    }\n",
       "\n",
       "    .dataframe tbody tr th {\n",
       "        vertical-align: top;\n",
       "    }\n",
       "\n",
       "    .dataframe thead th {\n",
       "        text-align: right;\n",
       "    }\n",
       "</style>\n",
       "<table border=\"1\" class=\"dataframe\">\n",
       "  <thead>\n",
       "    <tr style=\"text-align: right;\">\n",
       "      <th></th>\n",
       "      <th>coef</th>\n",
       "      <th>std err</th>\n",
       "      <th>t</th>\n",
       "      <th>P&gt;|t|</th>\n",
       "    </tr>\n",
       "  </thead>\n",
       "  <tbody>\n",
       "    <tr>\n",
       "      <th>y</th>\n",
       "      <td>0.3757</td>\n",
       "      <td>0.022</td>\n",
       "      <td>16.898</td>\n",
       "      <td>0.0</td>\n",
       "    </tr>\n",
       "  </tbody>\n",
       "</table>\n",
       "</div>"
      ],
      "text/plain": [
       "     coef  std err       t  P>|t|\n",
       "y  0.3757    0.022  16.898    0.0"
      ]
     },
     "execution_count": 4,
     "metadata": {},
     "output_type": "execute_result"
    }
   ],
   "source": [
    "X = MS(['y'], intercept=False).fit_transform(df)\n",
    "y = df['x']\n",
    "model = sm.OLS(y, X);\n",
    "results = model.fit();\n",
    "summarize(results)"
   ]
  },
  {
   "cell_type": "code",
   "execution_count": 5,
   "id": "2e35cc47-20de-4e02-ab2a-44f15f7776ea",
   "metadata": {},
   "outputs": [
    {
     "data": {
      "text/html": [
       "<div>\n",
       "<style scoped>\n",
       "    .dataframe tbody tr th:only-of-type {\n",
       "        vertical-align: middle;\n",
       "    }\n",
       "\n",
       "    .dataframe tbody tr th {\n",
       "        vertical-align: top;\n",
       "    }\n",
       "\n",
       "    .dataframe thead th {\n",
       "        text-align: right;\n",
       "    }\n",
       "</style>\n",
       "<table border=\"1\" class=\"dataframe\">\n",
       "  <thead>\n",
       "    <tr style=\"text-align: right;\">\n",
       "      <th></th>\n",
       "      <th>coef</th>\n",
       "      <th>std err</th>\n",
       "      <th>t</th>\n",
       "      <th>P&gt;|t|</th>\n",
       "    </tr>\n",
       "  </thead>\n",
       "  <tbody>\n",
       "    <tr>\n",
       "      <th>intercept</th>\n",
       "      <td>-0.0760</td>\n",
       "      <td>0.101</td>\n",
       "      <td>-0.756</td>\n",
       "      <td>0.451</td>\n",
       "    </tr>\n",
       "    <tr>\n",
       "      <th>x</th>\n",
       "      <td>1.9686</td>\n",
       "      <td>0.118</td>\n",
       "      <td>16.734</td>\n",
       "      <td>0.000</td>\n",
       "    </tr>\n",
       "  </tbody>\n",
       "</table>\n",
       "</div>"
      ],
      "text/plain": [
       "             coef  std err       t  P>|t|\n",
       "intercept -0.0760    0.101  -0.756  0.451\n",
       "x          1.9686    0.118  16.734  0.000"
      ]
     },
     "execution_count": 5,
     "metadata": {},
     "output_type": "execute_result"
    }
   ],
   "source": [
    "X = MS(['x']).fit_transform(df)\n",
    "y = df['y']\n",
    "model = sm.OLS(y, X);\n",
    "results1 = model.fit();\n",
    "summarize(results1)"
   ]
  },
  {
   "cell_type": "code",
   "execution_count": 6,
   "id": "969cbaee-26d0-4e9e-9250-50a96a948d32",
   "metadata": {},
   "outputs": [],
   "source": [
    "def draw_line(ax, b, k, *args, **kwargs):\n",
    "    # add a line with slope k and intercept b to axis ax\n",
    "    xlim = ax.get_xlim()\n",
    "    ylim = [k * xlim[0] + b, k * xlim[1] + b]\n",
    "    ax.plot(xlim, ylim, *args, **kwargs)"
   ]
  },
  {
   "cell_type": "code",
   "execution_count": 7,
   "id": "9827d36e-9522-48a3-8513-08e174affc5c",
   "metadata": {},
   "outputs": [
    {
     "data": {
      "image/png": "[encoded data removed]",
      "text/plain": [
       "<Figure size 640x480 with 1 Axes>"
      ]
     },
     "metadata": {},
     "output_type": "display_data"
    }
   ],
   "source": [
    "ax = df.plot('x', 'y', 'scatter')\n",
    "draw_line(ax, 0, results1.params[1], 'r--')"
   ]
  },
  {
   "cell_type": "code",
   "execution_count": 13,
   "id": "c0ff3593-0162-4579-8911-ead37915f448",
   "metadata": {},
   "outputs": [
    {
     "data": {
      "text/plain": [
       "0.7407603575807877"
      ]
     },
     "execution_count": 13,
     "metadata": {},
     "output_type": "execute_result"
    }
   ],
   "source": [
    "results1.rsquared"
   ]
  },
  {
   "cell_type": "code",
   "execution_count": 8,
   "id": "81e9abf1-f00e-47dc-836a-5c19f0fcc5a9",
   "metadata": {},
   "outputs": [
    {
     "data": {
      "text/html": [
       "<div>\n",
       "<style scoped>\n",
       "    .dataframe tbody tr th:only-of-type {\n",
       "        vertical-align: middle;\n",
       "    }\n",
       "\n",
       "    .dataframe tbody tr th {\n",
       "        vertical-align: top;\n",
       "    }\n",
       "\n",
       "    .dataframe thead th {\n",
       "        text-align: right;\n",
       "    }\n",
       "</style>\n",
       "<table border=\"1\" class=\"dataframe\">\n",
       "  <thead>\n",
       "    <tr style=\"text-align: right;\">\n",
       "      <th></th>\n",
       "      <th>coef</th>\n",
       "      <th>std err</th>\n",
       "      <th>t</th>\n",
       "      <th>P&gt;|t|</th>\n",
       "    </tr>\n",
       "  </thead>\n",
       "  <tbody>\n",
       "    <tr>\n",
       "      <th>intercept</th>\n",
       "      <td>0.0095</td>\n",
       "      <td>0.044</td>\n",
       "      <td>0.216</td>\n",
       "      <td>0.829</td>\n",
       "    </tr>\n",
       "    <tr>\n",
       "      <th>y</th>\n",
       "      <td>0.3763</td>\n",
       "      <td>0.022</td>\n",
       "      <td>16.734</td>\n",
       "      <td>0.000</td>\n",
       "    </tr>\n",
       "  </tbody>\n",
       "</table>\n",
       "</div>"
      ],
      "text/plain": [
       "             coef  std err       t  P>|t|\n",
       "intercept  0.0095    0.044   0.216  0.829\n",
       "y          0.3763    0.022  16.734  0.000"
      ]
     },
     "execution_count": 8,
     "metadata": {},
     "output_type": "execute_result"
    }
   ],
   "source": [
    "X = MS(['y']).fit_transform(df)\n",
    "y = df['x']\n",
    "model = sm.OLS(y, X);\n",
    "results = model.fit();\n",
    "summarize(results)"
   ]
  },
  {
   "cell_type": "markdown",
   "id": "a3509308-259c-4dfa-aa90-f2fdbad632b7",
   "metadata": {},
   "source": [
    "The t-statistic for $H_0: \\beta_1 = 0$ is the same for the regression of y onto x as of x onto y"
   ]
  },
  {
   "cell_type": "code",
   "execution_count": 9,
   "id": "5322440f-bcb7-42c1-bde3-8861f81b4d65",
   "metadata": {},
   "outputs": [
    {
     "data": {
      "text/html": [
       "<div>\n",
       "<style scoped>\n",
       "    .dataframe tbody tr th:only-of-type {\n",
       "        vertical-align: middle;\n",
       "    }\n",
       "\n",
       "    .dataframe tbody tr th {\n",
       "        vertical-align: top;\n",
       "    }\n",
       "\n",
       "    .dataframe thead th {\n",
       "        text-align: right;\n",
       "    }\n",
       "</style>\n",
       "<table border=\"1\" class=\"dataframe\">\n",
       "  <thead>\n",
       "    <tr style=\"text-align: right;\">\n",
       "      <th></th>\n",
       "      <th>coef</th>\n",
       "      <th>std err</th>\n",
       "      <th>t</th>\n",
       "      <th>P&gt;|t|</th>\n",
       "    </tr>\n",
       "  </thead>\n",
       "  <tbody>\n",
       "    <tr>\n",
       "      <th>intercept</th>\n",
       "      <td>-0.0780</td>\n",
       "      <td>0.101</td>\n",
       "      <td>-0.772</td>\n",
       "      <td>0.442</td>\n",
       "    </tr>\n",
       "    <tr>\n",
       "      <th>x</th>\n",
       "      <td>1.9419</td>\n",
       "      <td>0.117</td>\n",
       "      <td>16.651</td>\n",
       "      <td>0.000</td>\n",
       "    </tr>\n",
       "    <tr>\n",
       "      <th>poly(x, degree=2)[0]</th>\n",
       "      <td>0.2274</td>\n",
       "      <td>0.014</td>\n",
       "      <td>16.480</td>\n",
       "      <td>0.000</td>\n",
       "    </tr>\n",
       "    <tr>\n",
       "      <th>poly(x, degree=2)[1]</th>\n",
       "      <td>-0.0522</td>\n",
       "      <td>1.007</td>\n",
       "      <td>-0.052</td>\n",
       "      <td>0.959</td>\n",
       "    </tr>\n",
       "  </tbody>\n",
       "</table>\n",
       "</div>"
      ],
      "text/plain": [
       "                        coef  std err       t  P>|t|\n",
       "intercept            -0.0780    0.101  -0.772  0.442\n",
       "x                     1.9419    0.117  16.651  0.000\n",
       "poly(x, degree=2)[0]  0.2274    0.014  16.480  0.000\n",
       "poly(x, degree=2)[1] -0.0522    1.007  -0.052  0.959"
      ]
     },
     "execution_count": 9,
     "metadata": {},
     "output_type": "execute_result"
    }
   ],
   "source": [
    "X = MS(['x', poly('x', degree=2)]).fit_transform(df)\n",
    "y = df['y']\n",
    "model = sm.OLS(y, X);\n",
    "results2 = model.fit();\n",
    "summarize(results2)"
   ]
  },
  {
   "cell_type": "markdown",
   "id": "cbf44990-e374-4e16-89ee-749a0ec2aa1c",
   "metadata": {},
   "source": [
    "The P-value of intercept and coefficient of $x^2$ are very high, which means that they are zero."
   ]
  },
  {
   "cell_type": "code",
   "execution_count": 10,
   "id": "482b0512-25ca-4157-97b6-4560daaa36f9",
   "metadata": {},
   "outputs": [],
   "source": [
    "def draw_curve(ax, a, b, *args, **kwargs):\n",
    "    # add a quadratic curve ax^2 + bx to axis ax\n",
    "    xlim = ax.get_xlim()\n",
    "    xs = np.linspace(xlim[0], xlim[1], 100)\n",
    "    ax.plot(xs, a * xs**2 + b*xs, *args, **kwargs)"
   ]
  },
  {
   "cell_type": "code",
   "execution_count": 11,
   "id": "70693341-a673-49a3-a74a-19fbafcce869",
   "metadata": {},
   "outputs": [
    {
     "data": {
      "image/png": "[encoded data removed]",
      "text/plain": [
       "<Figure size 640x480 with 1 Axes>"
      ]
     },
     "metadata": {},
     "output_type": "display_data"
    }
   ],
   "source": [
    "ax = df.plot('x', 'y', 'scatter')\n",
    "draw_curve(ax, results2.params[2], results2.params[1], 'r--')"
   ]
  },
  {
   "cell_type": "code",
   "execution_count": 14,
   "id": "d1e04e83-893a-4b39-bd3b-5777daaa08fd",
   "metadata": {},
   "outputs": [
    {
     "data": {
      "text/plain": [
       "0.7407675414652726"
      ]
     },
     "execution_count": 14,
     "metadata": {},
     "output_type": "execute_result"
    }
   ],
   "source": [
    "results2.rsquared"
   ]
  },
  {
   "cell_type": "code",
   "execution_count": null,
   "id": "69a97340-cb66-4922-b3ed-77bc55a96221",
   "metadata": {},
   "outputs": [],
   "source": []
  }
 ],
 "metadata": {
  "kernelspec": {
   "display_name": "Python 3 (ipykernel)",
   "language": "python",
   "name": "python3"
  },
  "language_info": {
   "codemirror_mode": {
    "name": "ipython",
    "version": 3
   },
   "file_extension": ".py",
   "mimetype": "text/x-python",
   "name": "python",
   "nbconvert_exporter": "python",
   "pygments_lexer": "ipython3",
   "version": "3.9.19"
  }
 },
 "nbformat": 4,
 "nbformat_minor": 5
}
